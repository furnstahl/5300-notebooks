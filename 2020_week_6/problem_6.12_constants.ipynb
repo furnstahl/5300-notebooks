{
 "cells": [
  {
   "cell_type": "markdown",
   "metadata": {},
   "source": [
    "# Finding constants using fsolve"
   ]
  },
  {
   "cell_type": "markdown",
   "metadata": {},
   "source": [
    "Problem: find $k$ and $c$ given\n",
    "\n",
    "$\\begin{align}\n",
    "  1 + \\sinh^{-1}1 &= k \\sinh^{-1}(1/k) + c \\;,  \\\\\n",
    "  1 + \\sinh^{-1}5 &= k \\sinh^{-1}(5/k) + c \\;.  \n",
    "\\end{align}$\n",
    "\n",
    "Plan: use `fsolve` from `scipy.optimize`."
   ]
  },
  {
   "cell_type": "code",
   "execution_count": 1,
   "metadata": {},
   "outputs": [],
   "source": [
    "import numpy as np\n",
    "from scipy.optimize import fsolve"
   ]
  },
  {
   "cell_type": "code",
   "execution_count": 2,
   "metadata": {},
   "outputs": [],
   "source": [
    "def func(x):\n",
    "    \"\"\"Function of x = (k, c) defined so that when each component is zero we \n",
    "        have our solution.  \n",
    "       No extra arguments need to be passed, so func is simple.\"\"\"\n",
    "    k, c = x\n",
    "    return (\n",
    "            1. + np.arcsinh(1.) - (k * np.arcsinh(1./k) + c),\n",
    "            1. + np.arcsinh(5.) - (k * np.arcsinh(5./k) + c)\n",
    "           )"
   ]
  },
  {
   "cell_type": "code",
   "execution_count": 3,
   "metadata": {},
   "outputs": [
    {
     "name": "stdout",
     "output_type": "stream",
     "text": [
      "k = 1.00, c = 1.00\n"
     ]
    }
   ],
   "source": [
    "x0 = (0.1, 0.1)   # guesses for k and c\n",
    "k, c = fsolve(func, x0)\n",
    "print(f'k = {k:0.2f}, c = {c:0.2f}')"
   ]
  },
  {
   "cell_type": "code",
   "execution_count": null,
   "metadata": {},
   "outputs": [],
   "source": []
  }
 ],
 "metadata": {
  "kernelspec": {
   "display_name": "Python 3",
   "language": "python",
   "name": "python3"
  },
  "language_info": {
   "codemirror_mode": {
    "name": "ipython",
    "version": 3
   },
   "file_extension": ".py",
   "mimetype": "text/x-python",
   "name": "python",
   "nbconvert_exporter": "python",
   "pygments_lexer": "ipython3",
   "version": "3.6.9"
  }
 },
 "nbformat": 4,
 "nbformat_minor": 2
}
