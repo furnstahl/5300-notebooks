{
 "cells": [
  {
   "cell_type": "markdown",
   "metadata": {},
   "source": [
    "# Test of GridSpec"
   ]
  },
  {
   "cell_type": "code",
   "execution_count": null,
   "metadata": {},
   "outputs": [],
   "source": [
    "import numpy as np\n",
    "import matplotlib.pyplot as plt\n",
    "from matplotlib.gridspec import GridSpec"
   ]
  },
  {
   "cell_type": "markdown",
   "metadata": {},
   "source": [
    "## Just one row, but two unequal sized subplots\n",
    "\n",
    "Four total equal-spaced columns.  Use the first three for the left plot and the final one for the right plot."
   ]
  },
  {
   "cell_type": "code",
   "execution_count": null,
   "metadata": {},
   "outputs": [],
   "source": [
    "# sample data for plots\n",
    "x_pts = np.linspace(0., 2.*np.pi, 100)\n",
    "y_pts = np.sin(x_pts)"
   ]
  },
  {
   "cell_type": "code",
   "execution_count": null,
   "metadata": {},
   "outputs": [],
   "source": [
    "fig = plt.figure(figsize=(8,2))\n",
    "fig.suptitle('Test of GridSpec', va='baseline')\n",
    "    \n",
    "num_rows = 1   # rows in grid \n",
    "num_cols = 4   # columns in grid\n",
    "gs = GridSpec(num_rows, num_cols)  # create a GridSpec object called gs\n",
    "                                          \n",
    "ax_left = fig.add_subplot(gs[0,0:3]) # row 0, span columns 0, 1, 2                 \n",
    "ax_right = fig.add_subplot(gs[0,3])  # row 0, column 3 only\n",
    "\n",
    "ax_left.plot(x_pts, y_pts, color='red')\n",
    "ax_right.plot(x_pts, y_pts**2, color='blue')\n",
    "\n",
    "fig.tight_layout()"
   ]
  },
  {
   "cell_type": "markdown",
   "metadata": {},
   "source": [
    "## Try adding another row"
   ]
  },
  {
   "cell_type": "code",
   "execution_count": null,
   "metadata": {},
   "outputs": [],
   "source": [
    "fig = plt.figure(figsize=(8,4))   # add some more vertical room\n",
    "fig.suptitle('Test of GridSpec', va='baseline')\n",
    "    \n",
    "num_rows = 2   # rows in grid \n",
    "num_cols = 4   # columns in grid\n",
    "gs = GridSpec(num_rows, num_cols)  # create a GridSpec object called gs\n",
    "                                          \n",
    "ax_left = fig.add_subplot(gs[0,0:3]) # row 0, span columns 0, 1, 2                 \n",
    "ax_right = fig.add_subplot(gs[0,3])  # row 0, column 3 only\n",
    "ax_bottom = fig.add_subplot(gs[1,0:4]) # row 1, space columns 0 to 3\n",
    "\n",
    "ax_left.plot(x_pts, y_pts, color='red')\n",
    "ax_right.plot(x_pts, y_pts**2, color='blue')\n",
    "ax_bottom.plot(x_pts, np.arcsin(y_pts), color='green')\n",
    "\n",
    "ax_left.set_title('Left plot')\n",
    "ax_right.set_title('Right plot')\n",
    "fig.tight_layout()"
   ]
  },
  {
   "cell_type": "code",
   "execution_count": null,
   "metadata": {},
   "outputs": [],
   "source": []
  }
 ],
 "metadata": {
  "kernelspec": {
   "display_name": "Python 3",
   "language": "python",
   "name": "python3"
  },
  "language_info": {
   "codemirror_mode": {
    "name": "ipython",
    "version": 3
   },
   "file_extension": ".py",
   "mimetype": "text/x-python",
   "name": "python",
   "nbconvert_exporter": "python",
   "pygments_lexer": "ipython3",
   "version": "3.8.3"
  }
 },
 "nbformat": 4,
 "nbformat_minor": 2
}
